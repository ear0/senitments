{
 "cells": [
  {
   "cell_type": "code",
   "execution_count": 2,
   "metadata": {},
   "outputs": [],
   "source": [
    "import tweepy\n",
    "from textblob import TextBlob\n",
    "from wordcloud import WordCloud\n",
    "import pandas as pd\n",
    "import numpy as np\n",
    "import re\n",
    "import matplotlib.pyplot as plt\n",
    "plt.style.use('fivethirtyeight')"
   ]
  },
  {
   "cell_type": "code",
   "execution_count": null,
   "metadata": {},
   "outputs": [],
   "source": [
    "keys = pd.read_csv('your csv here')\n",
    "consumer_key = keys['keys'][0]\n",
    "consumer_secret = keys['keys'][1]\n",
    "access_token = keys['keys'][2]\n",
    "access_secret = keys['keys'][3]\n",
    "keys"
   ]
  },
  {
   "cell_type": "code",
   "execution_count": 4,
   "metadata": {},
   "outputs": [],
   "source": [
    "authenticate = tweepy.OAuthHandler(consumer_key, consumer_secret) \n",
    "authenticate.set_access_token(access_token, access_secret) \n",
    "api = tweepy.API(authenticate, wait_on_rate_limit = True)"
   ]
  },
  {
   "cell_type": "code",
   "execution_count": 63,
   "metadata": {},
   "outputs": [],
   "source": [
    "def getUserPosts(user, number):\n",
    "    timeline = api.user_timeline(screen_name = user, count = number, lang = \"en\", tweet_mode = \"extended\")\n",
    "    arr = []\n",
    "    j=1\n",
    "    for i in timeline[:number]:\n",
    "        arr.append(i.full_text)\n",
    "        j += 1\n",
    "    return arr\n",
    "def getHashtagPosts(hashtag, num, date = None):\n",
    "    timeline = list(api.search(hashtag, count = num, lang = 'en'))\n",
    "    arr = []\n",
    "    j=1\n",
    "    for i in timeline[:-1]:\n",
    "        arr.append(i.text)\n",
    "        j += 1\n",
    "    return arr\n",
    "def clean(text):\n",
    "    text = re.sub('@[A-Za-z0–9]+', '', text) \n",
    "    text = re.sub('RT[\\s]+', '', text) \n",
    "    text = re.sub('https?:\\/\\/\\S+', '', text)\n",
    " \n",
    "    return text"
   ]
  },
  {
   "cell_type": "code",
   "execution_count": 64,
   "metadata": {},
   "outputs": [],
   "source": [
    "def getSubjectivity(df, col):\n",
    "    arr = []\n",
    "    for i in df[col]:\n",
    "        arr.append(TextBlob(i).sentiment.polarity)\n",
    "    return arr\n",
    "\n",
    "def getPolarity(df, col):\n",
    "    arr = []\n",
    "    for i in df[col]:\n",
    "        arr.append(TextBlob(i).sentiment.polarity)\n",
    "    return arr\n"
   ]
  },
  {
   "cell_type": "code",
   "execution_count": 65,
   "metadata": {},
   "outputs": [],
   "source": [
    "def analyze(score):\n",
    "    if score < 0:\n",
    "        return 'Negative'\n",
    "    elif score == 0:\n",
    "        return 'Neutral'\n",
    "    else:\n",
    "        return 'Positive'"
   ]
  },
  {
   "cell_type": "code",
   "execution_count": 67,
   "metadata": {},
   "outputs": [],
   "source": [
    "def getSentiment(target, num, date = None):\n",
    "    if target[0] == '#':\n",
    "        arr = getHashtagPosts(target, num, date)\n",
    "        frame = pd.DataFrame(arr, columns = ['Tweets'])\n",
    "        cleaned = frame['Tweets'].apply(clean)\n",
    "        cleaned  = cleaned.to_frame()\n",
    "        cleaned['Subjectivity'] = getSubjectivity(cleaned, 'Tweets')\n",
    "        cleaned['Polarity'] = getPolarity(cleaned, 'Tweets')\n",
    "        cleaned['Outcome'] = cleaned['Polarity'].apply(analyze)\n",
    "    else:\n",
    "        arr = getUserPosts(target, num)\n",
    "        frame = pd.DataFrame(arr, columns = ['Tweets'])\n",
    "        cleaned = frame['Tweets'].apply(clean)\n",
    "        cleaned  = cleaned.to_frame()\n",
    "        cleaned['Subjectivity'] = getSubjectivity(cleaned, 'Tweets')\n",
    "        cleaned['Polarity'] = getPolarity(cleaned, 'Tweets')\n",
    "        cleaned['Outcome'] = cleaned['Polarity'].apply(analyze)\n",
    "    return cleaned"
   ]
  },
  {
   "cell_type": "code",
   "execution_count": 50,
   "metadata": {},
   "outputs": [],
   "source": [
    "def sortdf(dataframe, sorter, order = False):\n",
    "    return df.sort_values(by=[sorter], ascending = order )"
   ]
  },
  {
   "cell_type": "code",
   "execution_count": null,
   "metadata": {},
   "outputs": [],
   "source": [
    "def makeWordPlot(df, col):\n",
    "    words = ' '.join([t for t in df[col]])\n",
    "    wordCloud = WordCloud(width=500, height=300, random_state=21, max_font_size=110).generate(words)\n",
    "    plt.imshow(wordCloud, interpolation=\"bilinear\")\n",
    "    plt.axis('off')\n",
    "    plt.show()"
   ]
  }
 ],
 "metadata": {
  "kernelspec": {
   "display_name": "Python 3",
   "language": "python",
   "name": "python3"
  },
  "language_info": {
   "codemirror_mode": {
    "name": "ipython",
    "version": 3
   },
   "file_extension": ".py",
   "mimetype": "text/x-python",
   "name": "python",
   "nbconvert_exporter": "python",
   "pygments_lexer": "ipython3",
   "version": "3.7.6"
  }
 },
 "nbformat": 4,
 "nbformat_minor": 4
}
