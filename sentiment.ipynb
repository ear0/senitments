{
 "cells": [
  {
   "cell_type": "code",
   "execution_count": 2,
   "metadata": {},
   "outputs": [],
   "source": [
    "import tweepy\n",
    "from textblob import TextBlob\n",
    "from wordcloud import WordCloud\n",
    "import pandas as pd\n",
    "import numpy as np\n",
    "import re\n",
    "import matplotlib.pyplot as plt\n",
    "plt.style.use('fivethirtyeight')"
   ]
  },
  {
   "cell_type": "code",
   "execution_count": null,
   "metadata": {},
   "outputs": [],
   "source": [
    "keys = pd.read_csv('your csv here')\n",
    "consumer_key = keys['keys'][0]\n",
    "consumer_secret = keys['keys'][1]\n",
    "access_token = keys['keys'][2]\n",
    "access_secret = keys['keys'][3]\n",
    "keys"
   ]
  },
  {
   "cell_type": "code",
   "execution_count": 4,
   "metadata": {},
   "outputs": [],
   "source": [
    "authenticate = tweepy.OAuthHandler(consumer_key, consumer_secret) \n",
    "authenticate.set_access_token(access_token, access_secret) \n",
    "api = tweepy.API(authenticate, wait_on_rate_limit = True)"
   ]
  },
  {
   "cell_type": "code",
   "execution_count": 90,
   "metadata": {},
   "outputs": [],
   "source": [
    "def getUserPosts(user, number):\n",
    "    timeline = api.user_timeline(screen_name = user, count = number, lang = \"en\", tweet_mode = \"extended\")\n",
    "    arr = []\n",
    "    j=1\n",
    "    for i in timeline[:number]:\n",
    "        arr.append(i.full_text)\n",
    "        j += 1\n",
    "    return arr\n",
    "def getHashtagPosts(hashtag, num, date = None):\n",
    "    timeline = list(api.search(hashtag, count = num, lang = 'en'))\n",
    "    arr = []\n",
    "    j=1\n",
    "    for i in timeline[:-1]:\n",
    "        arr.append(i.text)\n",
    "        j += 1\n",
    "    return arr\n",
    "def clean(text):\n",
    "    text = re.sub('@[A-Za-z0–9]+', '', text) \n",
    "    text = re.sub('RT[\\s]+', '', text) \n",
    "    text = re.sub('https?:\\/\\/\\S+', '', text)\n",
    " \n",
    "    return text"
   ]
  },
  {
   "cell_type": "code",
   "execution_count": 91,
   "metadata": {},
   "outputs": [],
   "source": [
    "def getSubjectivity(df, col):\n",
    "    arr = []\n",
    "    for i in df[col]:\n",
    "        arr.append(TextBlob(i).sentiment.polarity)\n",
    "    return arr\n",
    "\n",
    "def getPolarity(df, col):\n",
    "    arr = []\n",
    "    for i in df[col]:\n",
    "        arr.append(TextBlob(i).sentiment.polarity)\n",
    "    return arr\n"
   ]
  },
  {
   "cell_type": "code",
   "execution_count": 92,
   "metadata": {},
   "outputs": [],
   "source": [
    "def analyze(score):\n",
    "    if score < 0:\n",
    "        return 'Negative'\n",
    "    elif score == 0:\n",
    "        return 'Neutral'\n",
    "    else:\n",
    "        return 'Positive'"
   ]
  },
  {
   "cell_type": "code",
   "execution_count": 93,
   "metadata": {},
   "outputs": [],
   "source": [
    "def getSentiment(target, num, date = None):\n",
    "    if target[0] == '#':\n",
    "        arr = getHashtagPosts(target, num, date)\n",
    "        frame = pd.DataFrame(arr, columns = ['Tweets'])\n",
    "        cleaned = frame['Tweets'].apply(clean)\n",
    "        cleaned  = cleaned.to_frame()\n",
    "        cleaned['Subjectivity'] = getSubjectivity(cleaned, 'Tweets')\n",
    "        cleaned['Polarity'] = getPolarity(cleaned, 'Tweets')\n",
    "        cleaned['Outcome'] = cleaned['Polarity'].apply(analyze)\n",
    "    else:\n",
    "        arr = getUserPosts(target, num)\n",
    "        frame = pd.DataFrame(arr, columns = ['Tweets'])\n",
    "        cleaned = frame['Tweets'].apply(clean)\n",
    "        cleaned  = cleaned.to_frame()\n",
    "        cleaned['Subjectivity'] = getSubjectivity(cleaned, 'Tweets')\n",
    "        cleaned['Polarity'] = getPolarity(cleaned, 'Tweets')\n",
    "        cleaned['Outcome'] = cleaned['Polarity'].apply(analyze)\n",
    "    return cleaned"
   ]
  },
  {
   "cell_type": "code",
   "execution_count": 94,
   "metadata": {},
   "outputs": [],
   "source": [
    "def sortdf(dataframe, sorter, order = False):\n",
    "    return df.sort_values(by=[sorter], ascending = order )"
   ]
  },
  {
   "cell_type": "code",
   "execution_count": 95,
   "metadata": {},
   "outputs": [],
   "source": [
    "def makeWordPlot(df, col):\n",
    "    words = ' '.join([t for t in df[col]])\n",
    "    wordCloud = WordCloud(width=500, height=300, random_state=21, max_font_size=110).generate(words)\n",
    "    plt.imshow(wordCloud, interpolation=\"bilinear\")\n",
    "    plt.axis('off')\n",
    "    plt.show()"
   ]
  },
  {
   "cell_type": "code",
   "execution_count": 105,
   "metadata": {},
   "outputs": [
    {
     "data": {
      "text/html": [
       "<div>\n",
       "<style scoped>\n",
       "    .dataframe tbody tr th:only-of-type {\n",
       "        vertical-align: middle;\n",
       "    }\n",
       "\n",
       "    .dataframe tbody tr th {\n",
       "        vertical-align: top;\n",
       "    }\n",
       "\n",
       "    .dataframe thead th {\n",
       "        text-align: right;\n",
       "    }\n",
       "</style>\n",
       "<table border=\"1\" class=\"dataframe\">\n",
       "  <thead>\n",
       "    <tr style=\"text-align: right;\">\n",
       "      <th></th>\n",
       "      <th>Tweets</th>\n",
       "      <th>Subjectivity</th>\n",
       "      <th>Polarity</th>\n",
       "      <th>Outcome</th>\n",
       "    </tr>\n",
       "  </thead>\n",
       "  <tbody>\n",
       "    <tr>\n",
       "      <th>0</th>\n",
       "      <td>On one end people are being send to #space #Sp...</td>\n",
       "      <td>-0.125000</td>\n",
       "      <td>-0.125000</td>\n",
       "      <td>Negative</td>\n",
       "    </tr>\n",
       "    <tr>\n",
       "      <th>1</th>\n",
       "      <td>the 2 faces of the USA.\\n\\n#SpaceX #GeorgeFloy...</td>\n",
       "      <td>0.000000</td>\n",
       "      <td>0.000000</td>\n",
       "      <td>Neutral</td>\n",
       "    </tr>\n",
       "    <tr>\n",
       "      <th>2</th>\n",
       "      <td>: The Trump Administration and American privat...</td>\n",
       "      <td>0.111111</td>\n",
       "      <td>0.111111</td>\n",
       "      <td>Positive</td>\n",
       "    </tr>\n",
       "    <tr>\n",
       "      <th>3</th>\n",
       "      <td>: The Trump Administration and American privat...</td>\n",
       "      <td>0.111111</td>\n",
       "      <td>0.111111</td>\n",
       "      <td>Positive</td>\n",
       "    </tr>\n",
       "    <tr>\n",
       "      <th>4</th>\n",
       "      <td>: On the shoulders of the Space Shuttle, Ameri...</td>\n",
       "      <td>0.000000</td>\n",
       "      <td>0.000000</td>\n",
       "      <td>Neutral</td>\n",
       "    </tr>\n",
       "    <tr>\n",
       "      <th>...</th>\n",
       "      <td>...</td>\n",
       "      <td>...</td>\n",
       "      <td>...</td>\n",
       "      <td>...</td>\n",
       "    </tr>\n",
       "    <tr>\n",
       "      <th>94</th>\n",
       "      <td>5: The toy dinosaur got it's own seatbelt! Tha...</td>\n",
       "      <td>0.625000</td>\n",
       "      <td>0.625000</td>\n",
       "      <td>Positive</td>\n",
       "    </tr>\n",
       "    <tr>\n",
       "      <th>95</th>\n",
       "      <td>: SpaceX's Dragon capsule has successfully arr...</td>\n",
       "      <td>0.750000</td>\n",
       "      <td>0.750000</td>\n",
       "      <td>Positive</td>\n",
       "    </tr>\n",
       "    <tr>\n",
       "      <th>96</th>\n",
       "      <td>: Q Proof &amp;gt; 529 532\\n\\nFIGHT FIGHT FIGHT &amp;g...</td>\n",
       "      <td>0.000000</td>\n",
       "      <td>0.000000</td>\n",
       "      <td>Neutral</td>\n",
       "    </tr>\n",
       "    <tr>\n",
       "      <th>97</th>\n",
       "      <td>: The Trump Administration and American privat...</td>\n",
       "      <td>0.111111</td>\n",
       "      <td>0.111111</td>\n",
       "      <td>Positive</td>\n",
       "    </tr>\n",
       "    <tr>\n",
       "      <th>98</th>\n",
       "      <td>On earth things are not so good for people . ...</td>\n",
       "      <td>0.700000</td>\n",
       "      <td>0.700000</td>\n",
       "      <td>Positive</td>\n",
       "    </tr>\n",
       "  </tbody>\n",
       "</table>\n",
       "<p>99 rows × 4 columns</p>\n",
       "</div>"
      ],
      "text/plain": [
       "                                               Tweets  Subjectivity  Polarity  \\\n",
       "0   On one end people are being send to #space #Sp...     -0.125000 -0.125000   \n",
       "1   the 2 faces of the USA.\\n\\n#SpaceX #GeorgeFloy...      0.000000  0.000000   \n",
       "2   : The Trump Administration and American privat...      0.111111  0.111111   \n",
       "3   : The Trump Administration and American privat...      0.111111  0.111111   \n",
       "4   : On the shoulders of the Space Shuttle, Ameri...      0.000000  0.000000   \n",
       "..                                                ...           ...       ...   \n",
       "94  5: The toy dinosaur got it's own seatbelt! Tha...      0.625000  0.625000   \n",
       "95  : SpaceX's Dragon capsule has successfully arr...      0.750000  0.750000   \n",
       "96  : Q Proof &gt; 529 532\\n\\nFIGHT FIGHT FIGHT &g...      0.000000  0.000000   \n",
       "97  : The Trump Administration and American privat...      0.111111  0.111111   \n",
       "98   On earth things are not so good for people . ...      0.700000  0.700000   \n",
       "\n",
       "     Outcome  \n",
       "0   Negative  \n",
       "1    Neutral  \n",
       "2   Positive  \n",
       "3   Positive  \n",
       "4    Neutral  \n",
       "..       ...  \n",
       "94  Positive  \n",
       "95  Positive  \n",
       "96   Neutral  \n",
       "97  Positive  \n",
       "98  Positive  \n",
       "\n",
       "[99 rows x 4 columns]"
      ]
     },
     "execution_count": 105,
     "metadata": {},
     "output_type": "execute_result"
    }
   ],
   "source": [
    "df = getSentiment('#spacex', 1000)\n",
    "df"
   ]
  },
  {
   "cell_type": "code",
   "execution_count": 106,
   "metadata": {},
   "outputs": [
    {
     "data": {
      "image/png": "[encoded data removed]",
      "text/plain": [
       "<Figure size 576x432 with 1 Axes>"
      ]
     },
     "metadata": {},
     "output_type": "display_data"
    }
   ],
   "source": [
    "plt.figure(figsize=(8,6)) \n",
    "for i in range(0, df.shape[0]):\n",
    "    plt.scatter(df[\"Polarity\"][i], df[\"Subjectivity\"][i], color='Blue') \n",
    "# plt.scatter(x,y,color)   \n",
    "plt.title('Sentiment Analysis') \n",
    "plt.xlabel('Polarity') \n",
    "plt.ylabel('Subjectivity') \n",
    "plt.show()"
   ]
  },
  {
   "cell_type": "code",
   "execution_count": 111,
   "metadata": {},
   "outputs": [
    {
     "data": {
      "image/png": "[encoded data removed]",
      "text/plain": [
       "<Figure size 432x288 with 1 Axes>"
      ]
     },
     "metadata": {},
     "output_type": "display_data"
    }
   ],
   "source": [
    "plt.title('Sentiment Analysis')\n",
    "plt.xlabel('Sentiment')\n",
    "plt.ylabel('Number')\n",
    "df['Outcome'].value_counts().plot(kind = 'pie')\n",
    "plt.show()"
   ]
  },
  {
   "cell_type": "code",
   "execution_count": 113,
   "metadata": {},
   "outputs": [
    {
     "data": {
      "image/png": "[encoded data removed]",
      "text/plain": [
       "<Figure size 432x288 with 1 Axes>"
      ]
     },
     "metadata": {},
     "output_type": "display_data"
    }
   ],
   "source": [
    "plt.title('Sentiment Analysis')\n",
    "plt.xlabel('Sentiment')\n",
    "plt.ylabel('Count')\n",
    "df['Outcome'].value_counts().plot(kind = 'bar')\n",
    "plt.show()"
   ]
  },
  {
   "cell_type": "code",
   "execution_count": null,
   "metadata": {},
   "outputs": [],
   "source": []
  }
 ],
 "metadata": {
  "kernelspec": {
   "display_name": "Python 3",
   "language": "python",
   "name": "python3"
  },
  "language_info": {
   "codemirror_mode": {
    "name": "ipython",
    "version": 3
   },
   "file_extension": ".py",
   "mimetype": "text/x-python",
   "name": "python",
   "nbconvert_exporter": "python",
   "pygments_lexer": "ipython3",
   "version": "3.7.6"
  }
 },
 "nbformat": 4,
 "nbformat_minor": 4
}
